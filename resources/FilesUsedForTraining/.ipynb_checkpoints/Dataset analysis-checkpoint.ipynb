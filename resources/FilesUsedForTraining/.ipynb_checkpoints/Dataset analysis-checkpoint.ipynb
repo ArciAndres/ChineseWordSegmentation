{
 "cells": [
  {
   "cell_type": "markdown",
   "metadata": {},
   "source": [
    "# Dataset analysis"
   ]
  },
  {
   "cell_type": "code",
   "execution_count": 24,
   "metadata": {},
   "outputs": [],
   "source": [
    "import numpy as np\n",
    "import ChinesePreprocess as CP\n",
    "import matplotlib.pyplot as plt\n",
    "import pandas as pd"
   ]
  },
  {
   "cell_type": "code",
   "execution_count": 25,
   "metadata": {
    "scrolled": true
   },
   "outputs": [
    {
     "name": "stdout",
     "output_type": "stream",
     "text": [
      "\n",
      "[INFO] Reading data file...\n",
      "[INFO] Read file: ../dataset/icwb2-data/training/msr_training.utf8\n",
      "[INFO] Total number of sentences:  86924\n",
      "[INFO] Sample of the file: \n",
      " ['“  心  静  渐  知  春  似  海  ，  花  深  每  觉  影  生  香  。', '“  吃  屎  的  东西  ，  连  一  捆  麦  也  铡  不  动  呀  ？'] \n",
      "\n"
     ]
    }
   ],
   "source": [
    "ds_train = CP.read_sentences(\"../dataset/icwb2-data/training/msr_training.utf8\")"
   ]
  },
  {
   "cell_type": "code",
   "execution_count": 26,
   "metadata": {},
   "outputs": [
    {
     "ename": "AttributeError",
     "evalue": "'tuple' object has no attribute 'sents_nospaces'",
     "output_type": "error",
     "traceback": [
      "\u001b[1;31m---------------------------------------------------------------------------\u001b[0m",
      "\u001b[1;31mAttributeError\u001b[0m                            Traceback (most recent call last)",
      "\u001b[1;32m<ipython-input-26-b03e23febaba>\u001b[0m in \u001b[0;36m<module>\u001b[1;34m\u001b[0m\n\u001b[1;32m----> 1\u001b[1;33m \u001b[0msent_nospaces\u001b[0m \u001b[1;33m=\u001b[0m \u001b[0mds_train\u001b[0m\u001b[1;33m.\u001b[0m\u001b[0msents_nospaces\u001b[0m\u001b[1;33m[\u001b[0m\u001b[1;36m0\u001b[0m\u001b[1;33m]\u001b[0m\u001b[1;33m\u001b[0m\u001b[1;33m\u001b[0m\u001b[0m\n\u001b[0m\u001b[0;32m      2\u001b[0m \u001b[0msent_spaces\u001b[0m \u001b[1;33m=\u001b[0m \u001b[0mds_train\u001b[0m\u001b[1;33m.\u001b[0m\u001b[0msents_split\u001b[0m\u001b[1;33m[\u001b[0m\u001b[1;36m0\u001b[0m\u001b[1;33m]\u001b[0m\u001b[1;33m\u001b[0m\u001b[1;33m\u001b[0m\u001b[0m\n\u001b[0;32m      3\u001b[0m \u001b[0mprint\u001b[0m\u001b[1;33m(\u001b[0m\u001b[1;34m\"Length of the sample: \"\u001b[0m\u001b[1;33m,\u001b[0m \u001b[0mlen\u001b[0m\u001b[1;33m(\u001b[0m\u001b[0msent_nospaces\u001b[0m\u001b[1;33m)\u001b[0m\u001b[1;33m)\u001b[0m\u001b[1;33m\u001b[0m\u001b[1;33m\u001b[0m\u001b[0m\n\u001b[0;32m      4\u001b[0m \u001b[0msent_in_bies\u001b[0m \u001b[1;33m=\u001b[0m \u001b[0mCP\u001b[0m\u001b[1;33m.\u001b[0m\u001b[0mto_BIES\u001b[0m\u001b[1;33m(\u001b[0m\u001b[0msent_spaces\u001b[0m\u001b[1;33m,\u001b[0m\u001b[0mto_num\u001b[0m\u001b[1;33m=\u001b[0m\u001b[1;32mTrue\u001b[0m\u001b[1;33m)\u001b[0m\u001b[1;33m\u001b[0m\u001b[1;33m\u001b[0m\u001b[0m\n\u001b[0;32m      5\u001b[0m \u001b[0msent_bies_list\u001b[0m \u001b[1;33m=\u001b[0m \u001b[0mlist\u001b[0m\u001b[1;33m(\u001b[0m\u001b[0msent_in_bies\u001b[0m\u001b[1;33m)\u001b[0m\u001b[1;33m\u001b[0m\u001b[1;33m\u001b[0m\u001b[0m\n",
      "\u001b[1;31mAttributeError\u001b[0m: 'tuple' object has no attribute 'sents_nospaces'"
     ]
    }
   ],
   "source": [
    "sent_nospaces = ds_train.sents_nospaces[0]\n",
    "sent_spaces = ds_train.sents_split[0]\n",
    "print(\"Length of the sample: \", len(sent_nospaces))\n",
    "sent_in_bies = CP.to_BIES(sent_spaces,to_num=True)\n",
    "sent_bies_list = list(sent_in_bies)\n",
    "print(sent_nospaces)\n",
    "print(sent_spaces)\n",
    "print(sent_in_bies)\n",
    "print(sent_bies_list)\n",
    "print(CP.apply_padding([sent_bies_list]))\n"
   ]
  },
  {
   "cell_type": "code",
   "execution_count": 27,
   "metadata": {},
   "outputs": [
    {
     "name": "stdout",
     "output_type": "stream",
     "text": [
      "************** AS *****************\n",
      "\n",
      "[INFO] Reading data file...\n",
      "[INFO] Read file: ../dataset/icwb2-data/training/as_training.utf8\n",
      "[INFO] Total number of sentences:  708953\n",
      "[INFO] Sample of the file: \n",
      " ['三月\\u3000十日\\u3000（\\u3000星期四\\u3000）\\u3000上午\\u3000十時\\u3000。', '地點\\u3000：'] \n",
      "\n",
      "************** CITYU *****************\n",
      "\n",
      "[INFO] Reading data file...\n",
      "[INFO] Read file: ../dataset/icwb2-data/training/cityu_training.utf8\n",
      "[INFO] Total number of sentences:  53019\n",
      "[INFO] Sample of the file: \n",
      " ['立法會 選舉 出現 了 戲劇性 的 結果 ， 儘管 投票率 創下 新高 ， 而 過去 經驗 顯示 高 投票率 對 民主派 較 有利 ， 但 由於 名單 協調 不當 及 配票 策略 失誤 ， 加上 醜聞 影響 選情 ， 民主黨 的 議席 比 上 一 屆 減少 ， 由 第 一 大 黨 跌 至 第 三 ；', '而 泛民主派 在 30 席 普選 中 亦 只能 取得 18 席 ， 比 選前 預期 的 20 席 少 ；'] \n",
      "\n",
      "************** MSR *****************\n",
      "\n",
      "[INFO] Reading data file...\n",
      "[INFO] Read file: ../dataset/icwb2-data/training/msr_training.utf8\n",
      "[INFO] Total number of sentences:  86924\n",
      "[INFO] Sample of the file: \n",
      " ['“  心  静  渐  知  春  似  海  ，  花  深  每  觉  影  生  香  。', '“  吃  屎  的  东西  ，  连  一  捆  麦  也  铡  不  动  呀  ？'] \n",
      "\n",
      "************** PKU *****************\n",
      "\n",
      "[INFO] Reading data file...\n",
      "[INFO] Read file: ../dataset/icwb2-data/training/pku_training.utf8\n",
      "[INFO] Total number of sentences:  19056\n",
      "[INFO] Sample of the file: \n",
      " ['中共中央  总书记  、  国家  主席  江  泽民  ', '（  一九九七年  十二月  三十一日  ）  '] \n",
      "\n"
     ]
    }
   ],
   "source": [
    "data = {}\n",
    "# I could make a loop tho...\n",
    "ds_names = ['as', 'cityu', 'msr', 'pku']\n",
    "for name in ds_names:\n",
    "    print(\"************** %s *****************\" % name.upper())\n",
    "    data[name] = CP.read_sentences(\"../dataset/icwb2-data/training/%s_training.utf8\" % name)"
   ]
  },
  {
   "cell_type": "code",
   "execution_count": 28,
   "metadata": {},
   "outputs": [],
   "source": [
    "data_lengths = []\n",
    "stats = []\n",
    "withspaces = 0\n",
    "dataframes = []\n",
    "# i = 0 (with spaces)\n",
    "# i = 1 (no spaces) -> This is the relevant one\n",
    "for i in range(2):\n",
    "    data_lengths.append([\n",
    "        [len(x) for x in data['as'][i]],\n",
    "        [len(x) for x in data['cityu'][i]],\n",
    "        [len(x) for x in data['msr'][i]],\n",
    "        [len(x) for x in data['pku'][i]]\n",
    "    ])\n",
    "    stats.append([[round(len(x),0) for x in data_lengths[i]],\n",
    "         [np.mean(x) for x in data_lengths[i]],\n",
    "         [np.median(x) for x in data_lengths[i]],\n",
    "         [np.std(x) for x in data_lengths[i]]])\n",
    "    dataframes.append(pd.DataFrame(stats[i], index=['# Sentences', 'Mean', 'Median', 'Std Dev.'], columns = ds_names).T)"
   ]
  },
  {
   "cell_type": "code",
   "execution_count": 29,
   "metadata": {},
   "outputs": [
    {
     "name": "stdout",
     "output_type": "stream",
     "text": [
      "************** With no spaces *****************\n"
     ]
    },
    {
     "data": {
      "text/html": [
       "<div>\n",
       "<style scoped>\n",
       "    .dataframe tbody tr th:only-of-type {\n",
       "        vertical-align: middle;\n",
       "    }\n",
       "\n",
       "    .dataframe tbody tr th {\n",
       "        vertical-align: top;\n",
       "    }\n",
       "\n",
       "    .dataframe thead th {\n",
       "        text-align: right;\n",
       "    }\n",
       "</style>\n",
       "<table border=\"1\" class=\"dataframe\">\n",
       "  <thead>\n",
       "    <tr style=\"text-align: right;\">\n",
       "      <th></th>\n",
       "      <th># Sentences</th>\n",
       "      <th>Mean</th>\n",
       "      <th>Median</th>\n",
       "      <th>Std Dev.</th>\n",
       "    </tr>\n",
       "  </thead>\n",
       "  <tbody>\n",
       "    <tr>\n",
       "      <th>as</th>\n",
       "      <td>708953.0</td>\n",
       "      <td>11.803392</td>\n",
       "      <td>10.0</td>\n",
       "      <td>7.016301</td>\n",
       "    </tr>\n",
       "    <tr>\n",
       "      <th>cityu</th>\n",
       "      <td>53019.0</td>\n",
       "      <td>45.330051</td>\n",
       "      <td>40.0</td>\n",
       "      <td>28.665968</td>\n",
       "    </tr>\n",
       "    <tr>\n",
       "      <th>msr</th>\n",
       "      <td>86924.0</td>\n",
       "      <td>46.597833</td>\n",
       "      <td>40.0</td>\n",
       "      <td>28.790156</td>\n",
       "    </tr>\n",
       "    <tr>\n",
       "      <th>pku</th>\n",
       "      <td>19054.0</td>\n",
       "      <td>95.856408</td>\n",
       "      <td>73.0</td>\n",
       "      <td>98.285210</td>\n",
       "    </tr>\n",
       "  </tbody>\n",
       "</table>\n",
       "</div>"
      ],
      "text/plain": [
       "       # Sentences       Mean  Median   Std Dev.\n",
       "as        708953.0  11.803392    10.0   7.016301\n",
       "cityu      53019.0  45.330051    40.0  28.665968\n",
       "msr        86924.0  46.597833    40.0  28.790156\n",
       "pku        19054.0  95.856408    73.0  98.285210"
      ]
     },
     "execution_count": 29,
     "metadata": {},
     "output_type": "execute_result"
    }
   ],
   "source": [
    "print(\"************** With no spaces *****************\")\n",
    "dataframes[1]\n",
    "#dataframes[1].loc['as',:]"
   ]
  },
  {
   "cell_type": "code",
   "execution_count": 30,
   "metadata": {},
   "outputs": [],
   "source": [
    "l = [len(x) for x in data['as'][i]]"
   ]
  },
  {
   "cell_type": "code",
   "execution_count": 31,
   "metadata": {},
   "outputs": [
    {
     "data": {
      "image/png": "[encoded data removed]",
      "text/plain": [
       "<Figure size 432x288 with 1 Axes>"
      ]
     },
     "metadata": {
      "needs_background": "light"
     },
     "output_type": "display_data"
    }
   ],
   "source": [
    "plt.boxplot(data_lengths[1], labels = ds_names)\n",
    "plt.gcf()\n",
    "plt.savefig(\"../figures/boxplot_unbalanced.svg\")\n"
   ]
  },
  {
   "cell_type": "markdown",
   "metadata": {},
   "source": [
    "All the datasets have a fair amount of outliers, but the length "
   ]
  },
  {
   "cell_type": "markdown",
   "metadata": {},
   "source": [
    "# Datasets reshaped"
   ]
  },
  {
   "cell_type": "code",
   "execution_count": 18,
   "metadata": {},
   "outputs": [
    {
     "name": "stdout",
     "output_type": "stream",
     "text": [
      "************** AS *****************\n",
      "\n",
      "[INFO] Reading data file...\n",
      "[INFO] Read file: ../dataset/icwb2-data/training/as_training_simp_reordered.utf8\n",
      "[INFO] Total number of sentences:  168902\n",
      "[INFO] Sample of the file: \n",
      " ['、 台 汉人 社会 研究 的 若干 考察 。 李 院长 于 二月 二十六日 至 三月 十五日 赴 美 访问 ， 期间 将 与 在 美 院士 商讨 院务 ， 与', '美国 大学 联系 商讨 长期 合作 事宜 ， 并 办理 加州 大学 退休 等 手续 。 出国 期间 院务 由 罗 副院长 代行 。 总办事处 秘书组'] \n",
      "\n",
      "************** CITYU *****************\n",
      "\n",
      "[INFO] Reading data file...\n",
      "[INFO] Read file: ../dataset/icwb2-data/training/cityu_training_simp_reordered.utf8\n",
      "[INFO] Total number of sentences:  48551\n",
      "[INFO] Sample of the file: \n",
      " ['投票率 对 民主派 较 有利 ， 但 由于 名单 协调 不当 及 配票 策略 失误 ， 加上 丑闻 影响 选情 ， 民主党 的 议席 比 上 一 届 减少 ，', '由 第 一 大 党 跌 至 第 三 ； 而 泛民主派 在 30 席 普选 中 亦 只能 取得 18 席 ， 比 选前 预期 的 20 席 少 ； 但 在 功能 组别 选举'] \n",
      "\n",
      "************** MSR *****************\n",
      "\n",
      "[INFO] Reading data file...\n",
      "[INFO] Read file: ../dataset/icwb2-data/training/msr_training_simp_reordered.utf8\n",
      "[INFO] Total number of sentences:  82070\n",
      "[INFO] Sample of the file: \n",
      " ['静 渐 知 春 似 海 ， 花 深 每 觉 影 生 香 。 “ 吃 屎 的 东西 ， 连 一 捆 麦 也 铡 不 动 呀 ？ 他 “ 严格要求 自己 ， 从 一个 科举 出身 的', '进士 成为 一个 伟大 的 民主主义 者 ， 进而 成为 一 位 杰出 的 党外 共产主义 战士 ， 献身 于 崇高 的 共产主义 事业 。 “ 征 而 未'] \n",
      "\n",
      "************** PKU *****************\n",
      "\n",
      "[INFO] Reading data file...\n",
      "[INFO] Read file: ../dataset/icwb2-data/training/pku_training_simp_reordered.utf8\n",
      "[INFO] Total number of sentences:  36907\n",
      "[INFO] Sample of the file: \n",
      " ['十二月 三十一日 ）  １２月 ３１日 ， 中共中央 总书记 、 国家 主席 江 泽民 发表 １９９８年 新年 讲话 《 迈向 充满 希望 的 新', '世纪 》 。 （ 新华社 记者 兰 红光 摄 ）  同胞 们 、 朋友 们 、 女士 们 、 先生 们 ：  在 １９９８年 来临 之际 ， 我 十分 高兴 地 通过'] \n",
      "\n"
     ]
    }
   ],
   "source": [
    "data_reshaped = {}\n",
    "# I could make a loop tho...\n",
    "ds_names = ['as', 'cityu', 'msr', 'pku']\n",
    "for name in ds_names:\n",
    "    print(\"************** %s *****************\" % name.upper())\n",
    "    data_reshaped[name] = CP.read_sentences(\"../dataset/icwb2-data/training/%s_training_simp_reordered.utf8\" % name)"
   ]
  },
  {
   "cell_type": "code",
   "execution_count": 19,
   "metadata": {},
   "outputs": [],
   "source": [
    "data_lengths = []\n",
    "stats = []\n",
    "withspaces = 0\n",
    "dataframes = []\n",
    "# i = 0 (with spaces)\n",
    "# i = 1 (no spaces) -> This is the relevant one\n",
    "for i in range(2):\n",
    "    data_lengths.append([\n",
    "        [len(x) for x in data_reshaped['as'][i]],\n",
    "        [len(x) for x in data_reshaped['cityu'][i]],\n",
    "        [len(x) for x in data_reshaped['msr'][i]],\n",
    "        [len(x) for x in data_reshaped['pku'][i]]\n",
    "    ])\n",
    "    stats.append([[round(len(x),0) for x in data_lengths[i]],\n",
    "         [np.mean(x) for x in data_lengths[i]],\n",
    "         [np.median(x) for x in data_lengths[i]],\n",
    "         [np.std(x) for x in data_lengths[i]]])\n",
    "    dataframes.append(pd.DataFrame(stats[i], index=['# Sentences', 'Mean', 'Median', 'Std Dev.'], columns = ds_names).T)"
   ]
  },
  {
   "cell_type": "code",
   "execution_count": 20,
   "metadata": {},
   "outputs": [
    {
     "data": {
      "text/html": [
       "<div>\n",
       "<style scoped>\n",
       "    .dataframe tbody tr th:only-of-type {\n",
       "        vertical-align: middle;\n",
       "    }\n",
       "\n",
       "    .dataframe tbody tr th {\n",
       "        vertical-align: top;\n",
       "    }\n",
       "\n",
       "    .dataframe thead th {\n",
       "        text-align: right;\n",
       "    }\n",
       "</style>\n",
       "<table border=\"1\" class=\"dataframe\">\n",
       "  <thead>\n",
       "    <tr style=\"text-align: right;\">\n",
       "      <th></th>\n",
       "      <th># Sentences</th>\n",
       "      <th>Mean</th>\n",
       "      <th>Median</th>\n",
       "      <th>Std Dev.</th>\n",
       "    </tr>\n",
       "  </thead>\n",
       "  <tbody>\n",
       "    <tr>\n",
       "      <th>as</th>\n",
       "      <td>168902.0</td>\n",
       "      <td>49.543818</td>\n",
       "      <td>50.0</td>\n",
       "      <td>0.996290</td>\n",
       "    </tr>\n",
       "    <tr>\n",
       "      <th>cityu</th>\n",
       "      <td>48551.0</td>\n",
       "      <td>49.501637</td>\n",
       "      <td>50.0</td>\n",
       "      <td>0.807189</td>\n",
       "    </tr>\n",
       "    <tr>\n",
       "      <th>msr</th>\n",
       "      <td>82070.0</td>\n",
       "      <td>49.353844</td>\n",
       "      <td>50.0</td>\n",
       "      <td>1.141667</td>\n",
       "    </tr>\n",
       "    <tr>\n",
       "      <th>pku</th>\n",
       "      <td>36907.0</td>\n",
       "      <td>49.487848</td>\n",
       "      <td>50.0</td>\n",
       "      <td>0.892057</td>\n",
       "    </tr>\n",
       "  </tbody>\n",
       "</table>\n",
       "</div>"
      ],
      "text/plain": [
       "       # Sentences       Mean  Median  Std Dev.\n",
       "as        168902.0  49.543818    50.0  0.996290\n",
       "cityu      48551.0  49.501637    50.0  0.807189\n",
       "msr        82070.0  49.353844    50.0  1.141667\n",
       "pku        36907.0  49.487848    50.0  0.892057"
      ]
     },
     "execution_count": 20,
     "metadata": {},
     "output_type": "execute_result"
    }
   ],
   "source": [
    "dataframes[1]\n"
   ]
  },
  {
   "cell_type": "code",
   "execution_count": 21,
   "metadata": {},
   "outputs": [
    {
     "data": {
      "image/png": "[encoded data removed]",
      "text/plain": [
       "<Figure size 432x288 with 1 Axes>"
      ]
     },
     "metadata": {
      "needs_background": "light"
     },
     "output_type": "display_data"
    }
   ],
   "source": [
    "plt.boxplot(data_lengths[1], labels = ds_names)\n",
    "plt.gcf()\n",
    "plt.savefig(\"../figures/boxplot_balanced.svg\")"
   ]
  },
  {
   "cell_type": "markdown",
   "metadata": {},
   "source": [
    "The length of every sentence, regarding to the amount of contained characters, was normalized to a fixed length. This is made to void extra computations with padding, and to not lose information. But anyway, the padding and masked inputs are kept in the model."
   ]
  }
 ],
 "metadata": {
  "kernelspec": {
   "display_name": "Python 3",
   "language": "python",
   "name": "python3"
  },
  "language_info": {
   "codemirror_mode": {
    "name": "ipython",
    "version": 3
   },
   "file_extension": ".py",
   "mimetype": "text/x-python",
   "name": "python",
   "nbconvert_exporter": "python",
   "pygments_lexer": "ipython3",
   "version": "3.6.12"
  }
 },
 "nbformat": 4,
 "nbformat_minor": 2
}
